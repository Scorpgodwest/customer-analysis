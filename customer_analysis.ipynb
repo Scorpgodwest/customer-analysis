{
 "cells": [
  {
   "cell_type": "markdown",
   "id": "d69b63f8-d9aa-4d1f-ab87-ce20571447ac",
   "metadata": {
    "tags": []
   },
   "source": [
    "<h1>Mall Customers Analysis</h1>"
   ]
  },
  {
   "cell_type": "markdown",
   "id": "cd4a89ae-2c7d-4a59-8626-c14961cc9dce",
   "metadata": {
    "tags": []
   },
   "source": [
    "<h4>Used dataset - https://www.kaggle.com/datasets/dataceo/sales-and-customer-data</h4>"
   ]
  },
  {
   "cell_type": "code",
   "execution_count": 1,
   "id": "be59ec8d-ed54-425b-bd85-eb9eec7a1de4",
   "metadata": {
    "tags": []
   },
   "outputs": [],
   "source": [
    "import pandas as pd\n",
    "import numpy as np\n",
    "import seaborn as sns\n",
    "import matplotlib.pyplot as plt\n",
    "from sklearn.preprocessing import LabelEncoder\n",
    "%matplotlib inline"
   ]
  },
  {
   "cell_type": "markdown",
   "id": "c7f9acb3-a9ee-444a-9df6-a09900a70a7b",
   "metadata": {},
   "source": [
    "### Customer Info"
   ]
  },
  {
   "cell_type": "code",
   "execution_count": 2,
   "id": "1e938696-d42e-493d-a4ff-ba9b52a8a096",
   "metadata": {
    "tags": []
   },
   "outputs": [
    {
     "data": {
      "text/html": [
       "<div>\n",
       "<style scoped>\n",
       "    .dataframe tbody tr th:only-of-type {\n",
       "        vertical-align: middle;\n",
       "    }\n",
       "\n",
       "    .dataframe tbody tr th {\n",
       "        vertical-align: top;\n",
       "    }\n",
       "\n",
       "    .dataframe thead th {\n",
       "        text-align: right;\n",
       "    }\n",
       "</style>\n",
       "<table border=\"1\" class=\"dataframe\">\n",
       "  <thead>\n",
       "    <tr style=\"text-align: right;\">\n",
       "      <th></th>\n",
       "      <th>customer_id</th>\n",
       "      <th>gender</th>\n",
       "      <th>age</th>\n",
       "      <th>payment_method</th>\n",
       "    </tr>\n",
       "  </thead>\n",
       "  <tbody>\n",
       "    <tr>\n",
       "      <th>0</th>\n",
       "      <td>C241288</td>\n",
       "      <td>Female</td>\n",
       "      <td>28.0</td>\n",
       "      <td>Credit Card</td>\n",
       "    </tr>\n",
       "    <tr>\n",
       "      <th>1</th>\n",
       "      <td>C111565</td>\n",
       "      <td>Male</td>\n",
       "      <td>21.0</td>\n",
       "      <td>Debit Card</td>\n",
       "    </tr>\n",
       "    <tr>\n",
       "      <th>2</th>\n",
       "      <td>C266599</td>\n",
       "      <td>Male</td>\n",
       "      <td>20.0</td>\n",
       "      <td>Cash</td>\n",
       "    </tr>\n",
       "    <tr>\n",
       "      <th>3</th>\n",
       "      <td>C988172</td>\n",
       "      <td>Female</td>\n",
       "      <td>66.0</td>\n",
       "      <td>Credit Card</td>\n",
       "    </tr>\n",
       "    <tr>\n",
       "      <th>4</th>\n",
       "      <td>C189076</td>\n",
       "      <td>Female</td>\n",
       "      <td>53.0</td>\n",
       "      <td>Cash</td>\n",
       "    </tr>\n",
       "  </tbody>\n",
       "</table>\n",
       "</div>"
      ],
      "text/plain": [
       "  customer_id  gender   age payment_method\n",
       "0     C241288  Female  28.0    Credit Card\n",
       "1     C111565    Male  21.0     Debit Card\n",
       "2     C266599    Male  20.0           Cash\n",
       "3     C988172  Female  66.0    Credit Card\n",
       "4     C189076  Female  53.0           Cash"
      ]
     },
     "execution_count": 2,
     "metadata": {},
     "output_type": "execute_result"
    }
   ],
   "source": [
    "customers = pd.read_csv('data/customer_data.csv')\n",
    "customers.head()"
   ]
  },
  {
   "cell_type": "markdown",
   "id": "f3bf216d-887c-4026-8316-a4d69c5b2046",
   "metadata": {},
   "source": [
    "### Purchase details"
   ]
  },
  {
   "cell_type": "code",
   "execution_count": 3,
   "id": "aa4cd7f3-181a-4f0b-8a94-0a44378c2b43",
   "metadata": {
    "tags": []
   },
   "outputs": [
    {
     "data": {
      "text/html": [
       "<div>\n",
       "<style scoped>\n",
       "    .dataframe tbody tr th:only-of-type {\n",
       "        vertical-align: middle;\n",
       "    }\n",
       "\n",
       "    .dataframe tbody tr th {\n",
       "        vertical-align: top;\n",
       "    }\n",
       "\n",
       "    .dataframe thead th {\n",
       "        text-align: right;\n",
       "    }\n",
       "</style>\n",
       "<table border=\"1\" class=\"dataframe\">\n",
       "  <thead>\n",
       "    <tr style=\"text-align: right;\">\n",
       "      <th></th>\n",
       "      <th>invoice_no</th>\n",
       "      <th>customer_id</th>\n",
       "      <th>category</th>\n",
       "      <th>quantity</th>\n",
       "      <th>price</th>\n",
       "      <th>invoice_date</th>\n",
       "      <th>shopping_mall</th>\n",
       "    </tr>\n",
       "  </thead>\n",
       "  <tbody>\n",
       "    <tr>\n",
       "      <th>0</th>\n",
       "      <td>I138884</td>\n",
       "      <td>C241288</td>\n",
       "      <td>Clothing</td>\n",
       "      <td>5</td>\n",
       "      <td>1500.40</td>\n",
       "      <td>05-08-2022</td>\n",
       "      <td>Kanyon</td>\n",
       "    </tr>\n",
       "    <tr>\n",
       "      <th>1</th>\n",
       "      <td>I317333</td>\n",
       "      <td>C111565</td>\n",
       "      <td>Shoes</td>\n",
       "      <td>3</td>\n",
       "      <td>1800.51</td>\n",
       "      <td>12-12-2021</td>\n",
       "      <td>Forum Istanbul</td>\n",
       "    </tr>\n",
       "    <tr>\n",
       "      <th>2</th>\n",
       "      <td>I127801</td>\n",
       "      <td>C266599</td>\n",
       "      <td>Clothing</td>\n",
       "      <td>1</td>\n",
       "      <td>300.08</td>\n",
       "      <td>09-11-2021</td>\n",
       "      <td>Metrocity</td>\n",
       "    </tr>\n",
       "    <tr>\n",
       "      <th>3</th>\n",
       "      <td>I173702</td>\n",
       "      <td>C988172</td>\n",
       "      <td>Shoes</td>\n",
       "      <td>5</td>\n",
       "      <td>3000.85</td>\n",
       "      <td>16-05-2021</td>\n",
       "      <td>Metropol AVM</td>\n",
       "    </tr>\n",
       "    <tr>\n",
       "      <th>4</th>\n",
       "      <td>I337046</td>\n",
       "      <td>C189076</td>\n",
       "      <td>Books</td>\n",
       "      <td>4</td>\n",
       "      <td>60.60</td>\n",
       "      <td>24-10-2021</td>\n",
       "      <td>Kanyon</td>\n",
       "    </tr>\n",
       "  </tbody>\n",
       "</table>\n",
       "</div>"
      ],
      "text/plain": [
       "  invoice_no customer_id  category  quantity    price invoice_date  \\\n",
       "0    I138884     C241288  Clothing         5  1500.40   05-08-2022   \n",
       "1    I317333     C111565     Shoes         3  1800.51   12-12-2021   \n",
       "2    I127801     C266599  Clothing         1   300.08   09-11-2021   \n",
       "3    I173702     C988172     Shoes         5  3000.85   16-05-2021   \n",
       "4    I337046     C189076     Books         4    60.60   24-10-2021   \n",
       "\n",
       "    shopping_mall  \n",
       "0          Kanyon  \n",
       "1  Forum Istanbul  \n",
       "2       Metrocity  \n",
       "3    Metropol AVM  \n",
       "4          Kanyon  "
      ]
     },
     "execution_count": 3,
     "metadata": {},
     "output_type": "execute_result"
    }
   ],
   "source": [
    "sales = pd.read_csv('data/sales_data.csv')\n",
    "sales.head()"
   ]
  },
  {
   "cell_type": "markdown",
   "id": "558864f4-dce1-46af-98e5-950f9da60d73",
   "metadata": {},
   "source": [
    "### Data Types"
   ]
  },
  {
   "cell_type": "code",
   "execution_count": 4,
   "id": "cac62b44-e436-4e6d-91bb-f20518aa5ffc",
   "metadata": {
    "tags": []
   },
   "outputs": [
    {
     "name": "stdout",
     "output_type": "stream",
     "text": [
      "(99457, 4)\n"
     ]
    },
    {
     "data": {
      "text/plain": [
       "customer_id        object\n",
       "gender             object\n",
       "age               float64\n",
       "payment_method     object\n",
       "dtype: object"
      ]
     },
     "execution_count": 4,
     "metadata": {},
     "output_type": "execute_result"
    }
   ],
   "source": [
    "print(customers.shape)\n",
    "customers.dtypes"
   ]
  },
  {
   "cell_type": "code",
   "execution_count": 5,
   "id": "a77ec746-860c-42b2-a0ec-474ea6d431ea",
   "metadata": {
    "tags": []
   },
   "outputs": [
    {
     "name": "stdout",
     "output_type": "stream",
     "text": [
      "(99457, 7)\n"
     ]
    },
    {
     "data": {
      "text/plain": [
       "invoice_no        object\n",
       "customer_id       object\n",
       "category          object\n",
       "quantity           int64\n",
       "price            float64\n",
       "invoice_date      object\n",
       "shopping_mall     object\n",
       "dtype: object"
      ]
     },
     "execution_count": 5,
     "metadata": {},
     "output_type": "execute_result"
    }
   ],
   "source": [
    "print(sales.shape)\n",
    "sales.dtypes"
   ]
  },
  {
   "cell_type": "code",
   "execution_count": 6,
   "id": "e64dc9fc-649e-447c-9ad7-60fb2593bb29",
   "metadata": {
    "tags": []
   },
   "outputs": [],
   "source": [
    "sales['invoice_date'] = pd.to_datetime(sales['invoice_date'], dayfirst=True)"
   ]
  },
  {
   "cell_type": "code",
   "execution_count": 7,
   "id": "46ec43cd-10e0-43e7-b309-3511383413bc",
   "metadata": {
    "tags": []
   },
   "outputs": [
    {
     "data": {
      "text/html": [
       "<div>\n",
       "<style scoped>\n",
       "    .dataframe tbody tr th:only-of-type {\n",
       "        vertical-align: middle;\n",
       "    }\n",
       "\n",
       "    .dataframe tbody tr th {\n",
       "        vertical-align: top;\n",
       "    }\n",
       "\n",
       "    .dataframe thead th {\n",
       "        text-align: right;\n",
       "    }\n",
       "</style>\n",
       "<table border=\"1\" class=\"dataframe\">\n",
       "  <thead>\n",
       "    <tr style=\"text-align: right;\">\n",
       "      <th></th>\n",
       "      <th>age</th>\n",
       "    </tr>\n",
       "  </thead>\n",
       "  <tbody>\n",
       "    <tr>\n",
       "      <th>count</th>\n",
       "      <td>99338.000000</td>\n",
       "    </tr>\n",
       "    <tr>\n",
       "      <th>mean</th>\n",
       "      <td>43.425859</td>\n",
       "    </tr>\n",
       "    <tr>\n",
       "      <th>std</th>\n",
       "      <td>14.989400</td>\n",
       "    </tr>\n",
       "    <tr>\n",
       "      <th>min</th>\n",
       "      <td>18.000000</td>\n",
       "    </tr>\n",
       "    <tr>\n",
       "      <th>25%</th>\n",
       "      <td>30.000000</td>\n",
       "    </tr>\n",
       "    <tr>\n",
       "      <th>50%</th>\n",
       "      <td>43.000000</td>\n",
       "    </tr>\n",
       "    <tr>\n",
       "      <th>75%</th>\n",
       "      <td>56.000000</td>\n",
       "    </tr>\n",
       "    <tr>\n",
       "      <th>max</th>\n",
       "      <td>69.000000</td>\n",
       "    </tr>\n",
       "  </tbody>\n",
       "</table>\n",
       "</div>"
      ],
      "text/plain": [
       "                age\n",
       "count  99338.000000\n",
       "mean      43.425859\n",
       "std       14.989400\n",
       "min       18.000000\n",
       "25%       30.000000\n",
       "50%       43.000000\n",
       "75%       56.000000\n",
       "max       69.000000"
      ]
     },
     "execution_count": 7,
     "metadata": {},
     "output_type": "execute_result"
    }
   ],
   "source": [
    "customers.describe()"
   ]
  },
  {
   "cell_type": "markdown",
   "id": "c1fbd956-4afd-4951-bc61-d16811774ccf",
   "metadata": {},
   "source": [
    "### Missing data"
   ]
  },
  {
   "cell_type": "code",
   "execution_count": 8,
   "id": "1d66e149-e8c9-4845-b210-92246f6e662e",
   "metadata": {
    "tags": []
   },
   "outputs": [
    {
     "data": {
      "text/plain": [
       "customer_id         0\n",
       "gender              0\n",
       "age               119\n",
       "payment_method      0\n",
       "dtype: int64"
      ]
     },
     "execution_count": 8,
     "metadata": {},
     "output_type": "execute_result"
    }
   ],
   "source": [
    "customers.isna().sum()"
   ]
  },
  {
   "cell_type": "code",
   "execution_count": 9,
   "id": "230da0db-4118-48dc-bb21-a150fbbce6a5",
   "metadata": {
    "tags": []
   },
   "outputs": [
    {
     "data": {
      "text/plain": [
       "invoice_no       0\n",
       "customer_id      0\n",
       "category         0\n",
       "quantity         0\n",
       "price            0\n",
       "invoice_date     0\n",
       "shopping_mall    0\n",
       "dtype: int64"
      ]
     },
     "execution_count": 9,
     "metadata": {},
     "output_type": "execute_result"
    }
   ],
   "source": [
    "sales.isna().sum()"
   ]
  },
  {
   "cell_type": "code",
   "execution_count": 10,
   "id": "3cab4d24-25a2-404f-9efa-18deb5602f8d",
   "metadata": {
    "tags": []
   },
   "outputs": [
    {
     "name": "stdout",
     "output_type": "stream",
     "text": [
      "(99457, 10)\n"
     ]
    },
    {
     "data": {
      "text/html": [
       "<div>\n",
       "<style scoped>\n",
       "    .dataframe tbody tr th:only-of-type {\n",
       "        vertical-align: middle;\n",
       "    }\n",
       "\n",
       "    .dataframe tbody tr th {\n",
       "        vertical-align: top;\n",
       "    }\n",
       "\n",
       "    .dataframe thead th {\n",
       "        text-align: right;\n",
       "    }\n",
       "</style>\n",
       "<table border=\"1\" class=\"dataframe\">\n",
       "  <thead>\n",
       "    <tr style=\"text-align: right;\">\n",
       "      <th></th>\n",
       "      <th>invoice_no</th>\n",
       "      <th>customer_id</th>\n",
       "      <th>category</th>\n",
       "      <th>quantity</th>\n",
       "      <th>price</th>\n",
       "      <th>invoice_date</th>\n",
       "      <th>shopping_mall</th>\n",
       "      <th>gender</th>\n",
       "      <th>age</th>\n",
       "      <th>payment_method</th>\n",
       "    </tr>\n",
       "  </thead>\n",
       "  <tbody>\n",
       "    <tr>\n",
       "      <th>0</th>\n",
       "      <td>I138884</td>\n",
       "      <td>C241288</td>\n",
       "      <td>Clothing</td>\n",
       "      <td>5</td>\n",
       "      <td>1500.40</td>\n",
       "      <td>2022-08-05</td>\n",
       "      <td>Kanyon</td>\n",
       "      <td>Female</td>\n",
       "      <td>28.0</td>\n",
       "      <td>Credit Card</td>\n",
       "    </tr>\n",
       "    <tr>\n",
       "      <th>1</th>\n",
       "      <td>I317333</td>\n",
       "      <td>C111565</td>\n",
       "      <td>Shoes</td>\n",
       "      <td>3</td>\n",
       "      <td>1800.51</td>\n",
       "      <td>2021-12-12</td>\n",
       "      <td>Forum Istanbul</td>\n",
       "      <td>Male</td>\n",
       "      <td>21.0</td>\n",
       "      <td>Debit Card</td>\n",
       "    </tr>\n",
       "    <tr>\n",
       "      <th>2</th>\n",
       "      <td>I127801</td>\n",
       "      <td>C266599</td>\n",
       "      <td>Clothing</td>\n",
       "      <td>1</td>\n",
       "      <td>300.08</td>\n",
       "      <td>2021-11-09</td>\n",
       "      <td>Metrocity</td>\n",
       "      <td>Male</td>\n",
       "      <td>20.0</td>\n",
       "      <td>Cash</td>\n",
       "    </tr>\n",
       "    <tr>\n",
       "      <th>3</th>\n",
       "      <td>I173702</td>\n",
       "      <td>C988172</td>\n",
       "      <td>Shoes</td>\n",
       "      <td>5</td>\n",
       "      <td>3000.85</td>\n",
       "      <td>2021-05-16</td>\n",
       "      <td>Metropol AVM</td>\n",
       "      <td>Female</td>\n",
       "      <td>66.0</td>\n",
       "      <td>Credit Card</td>\n",
       "    </tr>\n",
       "    <tr>\n",
       "      <th>4</th>\n",
       "      <td>I337046</td>\n",
       "      <td>C189076</td>\n",
       "      <td>Books</td>\n",
       "      <td>4</td>\n",
       "      <td>60.60</td>\n",
       "      <td>2021-10-24</td>\n",
       "      <td>Kanyon</td>\n",
       "      <td>Female</td>\n",
       "      <td>53.0</td>\n",
       "      <td>Cash</td>\n",
       "    </tr>\n",
       "  </tbody>\n",
       "</table>\n",
       "</div>"
      ],
      "text/plain": [
       "  invoice_no customer_id  category  quantity    price invoice_date  \\\n",
       "0    I138884     C241288  Clothing         5  1500.40   2022-08-05   \n",
       "1    I317333     C111565     Shoes         3  1800.51   2021-12-12   \n",
       "2    I127801     C266599  Clothing         1   300.08   2021-11-09   \n",
       "3    I173702     C988172     Shoes         5  3000.85   2021-05-16   \n",
       "4    I337046     C189076     Books         4    60.60   2021-10-24   \n",
       "\n",
       "    shopping_mall  gender   age payment_method  \n",
       "0          Kanyon  Female  28.0    Credit Card  \n",
       "1  Forum Istanbul    Male  21.0     Debit Card  \n",
       "2       Metrocity    Male  20.0           Cash  \n",
       "3    Metropol AVM  Female  66.0    Credit Card  \n",
       "4          Kanyon  Female  53.0           Cash  "
      ]
     },
     "execution_count": 10,
     "metadata": {},
     "output_type": "execute_result"
    }
   ],
   "source": [
    "full_df = sales.merge(customers, on='customer_id', how='inner')\n",
    "print(full_df.shape)\n",
    "full_df.head()"
   ]
  },
  {
   "cell_type": "code",
   "execution_count": 19,
   "id": "d950e2d5-7762-4920-b682-ae6b20a5177a",
   "metadata": {
    "tags": []
   },
   "outputs": [
    {
     "data": {
      "text/plain": [
       "Text(0, 0.5, 'Frequency')"
      ]
     },
     "execution_count": 19,
     "metadata": {},
     "output_type": "execute_result"
    },
    {
     "data": {
      "image/png": "[encoded data removed]",
      "text/plain": [
       "<Figure size 640x480 with 1 Axes>"
      ]
     },
     "metadata": {},
     "output_type": "display_data"
    }
   ],
   "source": [
    "sns.set(palette=sns.cubehelix_palette(start=5, light=0.5))\n",
    "\n",
    "full_df['payment_method'].value_counts().plot(kind='bar')\n",
    "plt.xlabel('Payment method')\n",
    "plt.ylabel('Frequency')"
   ]
  },
  {
   "cell_type": "markdown",
   "id": "8b5309db-029b-4bd5-9ed7-56c2b9d49019",
   "metadata": {},
   "source": [
    "**_Cash_ is the most popular payment method**"
   ]
  },
  {
   "cell_type": "code",
   "execution_count": 20,
   "id": "dce64aa8-01ef-46f4-ac6a-ec1828c944a5",
   "metadata": {
    "tags": []
   },
   "outputs": [
    {
     "data": {
      "text/plain": [
       "['10-20', '20-30', '30-40', '40-50', '50-60', '60-70']"
      ]
     },
     "execution_count": 20,
     "metadata": {},
     "output_type": "execute_result"
    }
   ],
   "source": [
    "bins = list(range(10, 71, 10))\n",
    "labels = [str(x)+'-'+str(bins[i+1]) for i, x in enumerate(bins) if bins[i] != bins[-1]]\n",
    "labels"
   ]
  },
  {
   "cell_type": "markdown",
   "id": "3c11c570-967a-4ec4-bf14-b4fecdc700d6",
   "metadata": {},
   "source": [
    "### Discretization of age by groups"
   ]
  },
  {
   "cell_type": "code",
   "execution_count": 21,
   "id": "44b7ae7a-7bb1-42fe-ae87-92eb58b4277b",
   "metadata": {
    "tags": []
   },
   "outputs": [
    {
     "data": {
      "text/html": [
       "<div>\n",
       "<style scoped>\n",
       "    .dataframe tbody tr th:only-of-type {\n",
       "        vertical-align: middle;\n",
       "    }\n",
       "\n",
       "    .dataframe tbody tr th {\n",
       "        vertical-align: top;\n",
       "    }\n",
       "\n",
       "    .dataframe thead th {\n",
       "        text-align: right;\n",
       "    }\n",
       "</style>\n",
       "<table border=\"1\" class=\"dataframe\">\n",
       "  <thead>\n",
       "    <tr style=\"text-align: right;\">\n",
       "      <th></th>\n",
       "      <th>invoice_no</th>\n",
       "      <th>customer_id</th>\n",
       "      <th>category</th>\n",
       "      <th>quantity</th>\n",
       "      <th>price</th>\n",
       "      <th>invoice_date</th>\n",
       "      <th>shopping_mall</th>\n",
       "      <th>gender</th>\n",
       "      <th>age</th>\n",
       "      <th>payment_method</th>\n",
       "      <th>age_group</th>\n",
       "    </tr>\n",
       "  </thead>\n",
       "  <tbody>\n",
       "    <tr>\n",
       "      <th>0</th>\n",
       "      <td>I138884</td>\n",
       "      <td>C241288</td>\n",
       "      <td>Clothing</td>\n",
       "      <td>5</td>\n",
       "      <td>1500.40</td>\n",
       "      <td>2022-08-05</td>\n",
       "      <td>Kanyon</td>\n",
       "      <td>Female</td>\n",
       "      <td>28.0</td>\n",
       "      <td>Credit Card</td>\n",
       "      <td>20-30</td>\n",
       "    </tr>\n",
       "    <tr>\n",
       "      <th>1</th>\n",
       "      <td>I317333</td>\n",
       "      <td>C111565</td>\n",
       "      <td>Shoes</td>\n",
       "      <td>3</td>\n",
       "      <td>1800.51</td>\n",
       "      <td>2021-12-12</td>\n",
       "      <td>Forum Istanbul</td>\n",
       "      <td>Male</td>\n",
       "      <td>21.0</td>\n",
       "      <td>Debit Card</td>\n",
       "      <td>20-30</td>\n",
       "    </tr>\n",
       "    <tr>\n",
       "      <th>2</th>\n",
       "      <td>I127801</td>\n",
       "      <td>C266599</td>\n",
       "      <td>Clothing</td>\n",
       "      <td>1</td>\n",
       "      <td>300.08</td>\n",
       "      <td>2021-11-09</td>\n",
       "      <td>Metrocity</td>\n",
       "      <td>Male</td>\n",
       "      <td>20.0</td>\n",
       "      <td>Cash</td>\n",
       "      <td>10-20</td>\n",
       "    </tr>\n",
       "    <tr>\n",
       "      <th>3</th>\n",
       "      <td>I173702</td>\n",
       "      <td>C988172</td>\n",
       "      <td>Shoes</td>\n",
       "      <td>5</td>\n",
       "      <td>3000.85</td>\n",
       "      <td>2021-05-16</td>\n",
       "      <td>Metropol AVM</td>\n",
       "      <td>Female</td>\n",
       "      <td>66.0</td>\n",
       "      <td>Credit Card</td>\n",
       "      <td>60-70</td>\n",
       "    </tr>\n",
       "    <tr>\n",
       "      <th>4</th>\n",
       "      <td>I337046</td>\n",
       "      <td>C189076</td>\n",
       "      <td>Books</td>\n",
       "      <td>4</td>\n",
       "      <td>60.60</td>\n",
       "      <td>2021-10-24</td>\n",
       "      <td>Kanyon</td>\n",
       "      <td>Female</td>\n",
       "      <td>53.0</td>\n",
       "      <td>Cash</td>\n",
       "      <td>50-60</td>\n",
       "    </tr>\n",
       "  </tbody>\n",
       "</table>\n",
       "</div>"
      ],
      "text/plain": [
       "  invoice_no customer_id  category  quantity    price invoice_date  \\\n",
       "0    I138884     C241288  Clothing         5  1500.40   2022-08-05   \n",
       "1    I317333     C111565     Shoes         3  1800.51   2021-12-12   \n",
       "2    I127801     C266599  Clothing         1   300.08   2021-11-09   \n",
       "3    I173702     C988172     Shoes         5  3000.85   2021-05-16   \n",
       "4    I337046     C189076     Books         4    60.60   2021-10-24   \n",
       "\n",
       "    shopping_mall  gender   age payment_method age_group  \n",
       "0          Kanyon  Female  28.0    Credit Card     20-30  \n",
       "1  Forum Istanbul    Male  21.0     Debit Card     20-30  \n",
       "2       Metrocity    Male  20.0           Cash     10-20  \n",
       "3    Metropol AVM  Female  66.0    Credit Card     60-70  \n",
       "4          Kanyon  Female  53.0           Cash     50-60  "
      ]
     },
     "execution_count": 21,
     "metadata": {},
     "output_type": "execute_result"
    }
   ],
   "source": [
    "full_df['age_group'] = pd.cut(full_df['age'], bins=bins, labels=labels)\n",
    "full_df.head()"
   ]
  },
  {
   "cell_type": "code",
   "execution_count": 22,
   "id": "60cdbe9b-a606-45aa-a600-f073d17e68da",
   "metadata": {
    "tags": []
   },
   "outputs": [
    {
     "data": {
      "text/html": [
       "<div>\n",
       "<style scoped>\n",
       "    .dataframe tbody tr th:only-of-type {\n",
       "        vertical-align: middle;\n",
       "    }\n",
       "\n",
       "    .dataframe tbody tr th {\n",
       "        vertical-align: top;\n",
       "    }\n",
       "\n",
       "    .dataframe thead th {\n",
       "        text-align: right;\n",
       "    }\n",
       "</style>\n",
       "<table border=\"1\" class=\"dataframe\">\n",
       "  <thead>\n",
       "    <tr style=\"text-align: right;\">\n",
       "      <th></th>\n",
       "      <th>price</th>\n",
       "      <th>quantity</th>\n",
       "    </tr>\n",
       "    <tr>\n",
       "      <th>age_group</th>\n",
       "      <th></th>\n",
       "      <th></th>\n",
       "    </tr>\n",
       "  </thead>\n",
       "  <tbody>\n",
       "    <tr>\n",
       "      <th>10-20</th>\n",
       "      <td>668.350830</td>\n",
       "      <td>2.988072</td>\n",
       "    </tr>\n",
       "    <tr>\n",
       "      <th>20-30</th>\n",
       "      <td>692.939300</td>\n",
       "      <td>3.008773</td>\n",
       "    </tr>\n",
       "    <tr>\n",
       "      <th>30-40</th>\n",
       "      <td>687.048416</td>\n",
       "      <td>3.003066</td>\n",
       "    </tr>\n",
       "    <tr>\n",
       "      <th>40-50</th>\n",
       "      <td>696.714801</td>\n",
       "      <td>2.997375</td>\n",
       "    </tr>\n",
       "    <tr>\n",
       "      <th>50-60</th>\n",
       "      <td>686.563453</td>\n",
       "      <td>3.010472</td>\n",
       "    </tr>\n",
       "    <tr>\n",
       "      <th>60-70</th>\n",
       "      <td>689.341074</td>\n",
       "      <td>3.002041</td>\n",
       "    </tr>\n",
       "  </tbody>\n",
       "</table>\n",
       "</div>"
      ],
      "text/plain": [
       "                price  quantity\n",
       "age_group                      \n",
       "10-20      668.350830  2.988072\n",
       "20-30      692.939300  3.008773\n",
       "30-40      687.048416  3.003066\n",
       "40-50      696.714801  2.997375\n",
       "50-60      686.563453  3.010472\n",
       "60-70      689.341074  3.002041"
      ]
     },
     "execution_count": 22,
     "metadata": {},
     "output_type": "execute_result"
    }
   ],
   "source": [
    "full_df.groupby('age_group').agg({'price': 'mean', 'quantity': 'mean'})"
   ]
  },
  {
   "cell_type": "markdown",
   "id": "8d72167a-0be6-40cb-a8fa-3f1b237b3096",
   "metadata": {},
   "source": [
    "No significant difference in price and quantity among different age groups"
   ]
  },
  {
   "cell_type": "code",
   "execution_count": 23,
   "id": "a08d22d0-2371-46ca-9d76-0ed9e6b74b59",
   "metadata": {
    "tags": []
   },
   "outputs": [
    {
     "name": "stdout",
     "output_type": "stream",
     "text": [
      "The earliest observation 2021-01-01 00:00:00\n",
      "The latest one 2023-03-08 00:00:00\n",
      "Time span 796 days 00:00:00\n"
     ]
    }
   ],
   "source": [
    "min_date = full_df['invoice_date'].min()\n",
    "max_date = full_df['invoice_date'].max()\n",
    "print(f'The earliest observation { min_date }')\n",
    "print(f'The latest one { max_date }')\n",
    "print(f'Time span {(max_date - min_date)}')"
   ]
  },
  {
   "cell_type": "code",
   "execution_count": 24,
   "id": "3f2ee6cb-0968-4c72-b452-e5be7121f8a6",
   "metadata": {
    "tags": []
   },
   "outputs": [
    {
     "data": {
      "image/png": "[encoded data removed]",
      "text/plain": [
       "<Figure size 1000x800 with 4 Axes>"
      ]
     },
     "metadata": {},
     "output_type": "display_data"
    }
   ],
   "source": [
    "ctg_count = full_df['category'].value_counts()\n",
    "gender_count = full_df['gender'].value_counts()\n",
    "mall_count = full_df['shopping_mall'].value_counts()\n",
    "payment_count = full_df['payment_method'].value_counts()\n",
    "\n",
    "fig, axs = plt.subplots(2,2, sharey=True, figsize=(10, 8))\n",
    "plt.subplots_adjust(hspace=0.55)\n",
    "fig.suptitle('General information about data', fontsize=16)\n",
    "bar1 = sns.barplot(ax=axs[0, 0], x=ctg_count.index, y=ctg_count.values)\n",
    "bar2 = sns.barplot(ax=axs[0, 1],x=gender_count.index, y=gender_count.values)\n",
    "bar3 = sns.barplot(ax=axs[1, 0],x=mall_count.index, y=mall_count.values)\n",
    "bar4 = sns.barplot(ax=axs[1, 1],x=payment_count.index, y=payment_count.values)\n",
    "\n",
    "bar1.set_xticks(ticks=bar1.get_xticks(), rotation=90, labels=bar1.get_xticklabels())\n",
    "bar3.set_xticks(ticks=bar3.get_xticks(), rotation=90, labels=bar3.get_xticklabels())\n",
    "\n",
    "sns.despine()"
   ]
  },
  {
   "cell_type": "code",
   "execution_count": 25,
   "id": "d409ae65-d944-4618-8a6f-00db9d25d8c3",
   "metadata": {
    "tags": []
   },
   "outputs": [
    {
     "data": {
      "image/png": "[encoded data removed]",
      "text/plain": [
       "<Figure size 640x480 with 1 Axes>"
      ]
     },
     "metadata": {},
     "output_type": "display_data"
    }
   ],
   "source": [
    "sns.histplot(full_df, x='age', bins=10)\n",
    "plt.title('Age Distribution')\n",
    "sns.despine()"
   ]
  },
  {
   "cell_type": "code",
   "execution_count": 26,
   "id": "33f29763-3c5c-4a2a-8e3a-9e7b19965e37",
   "metadata": {
    "tags": []
   },
   "outputs": [],
   "source": [
    "full_df['revenue'] = full_df['price'] * full_df['quantity']"
   ]
  },
  {
   "cell_type": "code",
   "execution_count": 27,
   "id": "39d66a6d-67a1-4d9c-a7a9-fa5fba38b77c",
   "metadata": {
    "tags": []
   },
   "outputs": [
    {
     "data": {
      "text/html": [
       "<div>\n",
       "<style scoped>\n",
       "    .dataframe tbody tr th:only-of-type {\n",
       "        vertical-align: middle;\n",
       "    }\n",
       "\n",
       "    .dataframe tbody tr th {\n",
       "        vertical-align: top;\n",
       "    }\n",
       "\n",
       "    .dataframe thead th {\n",
       "        text-align: right;\n",
       "    }\n",
       "</style>\n",
       "<table border=\"1\" class=\"dataframe\">\n",
       "  <thead>\n",
       "    <tr style=\"text-align: right;\">\n",
       "      <th></th>\n",
       "      <th>invoice_no</th>\n",
       "      <th>customer_id</th>\n",
       "      <th>category</th>\n",
       "      <th>quantity</th>\n",
       "      <th>price</th>\n",
       "      <th>invoice_date</th>\n",
       "      <th>shopping_mall</th>\n",
       "      <th>gender</th>\n",
       "      <th>age</th>\n",
       "      <th>payment_method</th>\n",
       "      <th>age_group</th>\n",
       "      <th>revenue</th>\n",
       "    </tr>\n",
       "  </thead>\n",
       "  <tbody>\n",
       "    <tr>\n",
       "      <th>0</th>\n",
       "      <td>I138884</td>\n",
       "      <td>C241288</td>\n",
       "      <td>Clothing</td>\n",
       "      <td>5</td>\n",
       "      <td>1500.40</td>\n",
       "      <td>2022-08-05</td>\n",
       "      <td>Kanyon</td>\n",
       "      <td>Female</td>\n",
       "      <td>28.0</td>\n",
       "      <td>Credit Card</td>\n",
       "      <td>20-30</td>\n",
       "      <td>7502.00</td>\n",
       "    </tr>\n",
       "    <tr>\n",
       "      <th>1</th>\n",
       "      <td>I317333</td>\n",
       "      <td>C111565</td>\n",
       "      <td>Shoes</td>\n",
       "      <td>3</td>\n",
       "      <td>1800.51</td>\n",
       "      <td>2021-12-12</td>\n",
       "      <td>Forum Istanbul</td>\n",
       "      <td>Male</td>\n",
       "      <td>21.0</td>\n",
       "      <td>Debit Card</td>\n",
       "      <td>20-30</td>\n",
       "      <td>5401.53</td>\n",
       "    </tr>\n",
       "    <tr>\n",
       "      <th>2</th>\n",
       "      <td>I127801</td>\n",
       "      <td>C266599</td>\n",
       "      <td>Clothing</td>\n",
       "      <td>1</td>\n",
       "      <td>300.08</td>\n",
       "      <td>2021-11-09</td>\n",
       "      <td>Metrocity</td>\n",
       "      <td>Male</td>\n",
       "      <td>20.0</td>\n",
       "      <td>Cash</td>\n",
       "      <td>10-20</td>\n",
       "      <td>300.08</td>\n",
       "    </tr>\n",
       "    <tr>\n",
       "      <th>3</th>\n",
       "      <td>I173702</td>\n",
       "      <td>C988172</td>\n",
       "      <td>Shoes</td>\n",
       "      <td>5</td>\n",
       "      <td>3000.85</td>\n",
       "      <td>2021-05-16</td>\n",
       "      <td>Metropol AVM</td>\n",
       "      <td>Female</td>\n",
       "      <td>66.0</td>\n",
       "      <td>Credit Card</td>\n",
       "      <td>60-70</td>\n",
       "      <td>15004.25</td>\n",
       "    </tr>\n",
       "    <tr>\n",
       "      <th>4</th>\n",
       "      <td>I337046</td>\n",
       "      <td>C189076</td>\n",
       "      <td>Books</td>\n",
       "      <td>4</td>\n",
       "      <td>60.60</td>\n",
       "      <td>2021-10-24</td>\n",
       "      <td>Kanyon</td>\n",
       "      <td>Female</td>\n",
       "      <td>53.0</td>\n",
       "      <td>Cash</td>\n",
       "      <td>50-60</td>\n",
       "      <td>242.40</td>\n",
       "    </tr>\n",
       "  </tbody>\n",
       "</table>\n",
       "</div>"
      ],
      "text/plain": [
       "  invoice_no customer_id  category  quantity    price invoice_date  \\\n",
       "0    I138884     C241288  Clothing         5  1500.40   2022-08-05   \n",
       "1    I317333     C111565     Shoes         3  1800.51   2021-12-12   \n",
       "2    I127801     C266599  Clothing         1   300.08   2021-11-09   \n",
       "3    I173702     C988172     Shoes         5  3000.85   2021-05-16   \n",
       "4    I337046     C189076     Books         4    60.60   2021-10-24   \n",
       "\n",
       "    shopping_mall  gender   age payment_method age_group   revenue  \n",
       "0          Kanyon  Female  28.0    Credit Card     20-30   7502.00  \n",
       "1  Forum Istanbul    Male  21.0     Debit Card     20-30   5401.53  \n",
       "2       Metrocity    Male  20.0           Cash     10-20    300.08  \n",
       "3    Metropol AVM  Female  66.0    Credit Card     60-70  15004.25  \n",
       "4          Kanyon  Female  53.0           Cash     50-60    242.40  "
      ]
     },
     "execution_count": 27,
     "metadata": {},
     "output_type": "execute_result"
    }
   ],
   "source": [
    "full_df.head()"
   ]
  },
  {
   "cell_type": "code",
   "execution_count": 28,
   "id": "cc59a900-767c-4cab-927c-f3214539113f",
   "metadata": {
    "tags": []
   },
   "outputs": [
    {
     "data": {
      "text/html": [
       "<div>\n",
       "<style scoped>\n",
       "    .dataframe tbody tr th:only-of-type {\n",
       "        vertical-align: middle;\n",
       "    }\n",
       "\n",
       "    .dataframe tbody tr th {\n",
       "        vertical-align: top;\n",
       "    }\n",
       "\n",
       "    .dataframe thead th {\n",
       "        text-align: right;\n",
       "    }\n",
       "</style>\n",
       "<table border=\"1\" class=\"dataframe\">\n",
       "  <thead>\n",
       "    <tr style=\"text-align: right;\">\n",
       "      <th>gender</th>\n",
       "      <th>Female</th>\n",
       "      <th>Male</th>\n",
       "    </tr>\n",
       "    <tr>\n",
       "      <th>shopping_mall</th>\n",
       "      <th></th>\n",
       "      <th></th>\n",
       "    </tr>\n",
       "  </thead>\n",
       "  <tbody>\n",
       "    <tr>\n",
       "      <th>Cevahir AVM</th>\n",
       "      <td>2940</td>\n",
       "      <td>2051</td>\n",
       "    </tr>\n",
       "    <tr>\n",
       "      <th>Emaar Square Mall</th>\n",
       "      <td>2842</td>\n",
       "      <td>1969</td>\n",
       "    </tr>\n",
       "    <tr>\n",
       "      <th>Forum Istanbul</th>\n",
       "      <td>3016</td>\n",
       "      <td>1931</td>\n",
       "    </tr>\n",
       "    <tr>\n",
       "      <th>Istinye Park</th>\n",
       "      <td>5874</td>\n",
       "      <td>3907</td>\n",
       "    </tr>\n",
       "    <tr>\n",
       "      <th>Kanyon</th>\n",
       "      <td>11906</td>\n",
       "      <td>7917</td>\n",
       "    </tr>\n",
       "    <tr>\n",
       "      <th>Mall of Istanbul</th>\n",
       "      <td>11902</td>\n",
       "      <td>8041</td>\n",
       "    </tr>\n",
       "    <tr>\n",
       "      <th>Metrocity</th>\n",
       "      <td>8941</td>\n",
       "      <td>6070</td>\n",
       "    </tr>\n",
       "    <tr>\n",
       "      <th>Metropol AVM</th>\n",
       "      <td>6144</td>\n",
       "      <td>4017</td>\n",
       "    </tr>\n",
       "    <tr>\n",
       "      <th>Viaport Outlet</th>\n",
       "      <td>2949</td>\n",
       "      <td>1965</td>\n",
       "    </tr>\n",
       "    <tr>\n",
       "      <th>Zorlu Center</th>\n",
       "      <td>2968</td>\n",
       "      <td>2107</td>\n",
       "    </tr>\n",
       "  </tbody>\n",
       "</table>\n",
       "</div>"
      ],
      "text/plain": [
       "gender             Female  Male\n",
       "shopping_mall                  \n",
       "Cevahir AVM          2940  2051\n",
       "Emaar Square Mall    2842  1969\n",
       "Forum Istanbul       3016  1931\n",
       "Istinye Park         5874  3907\n",
       "Kanyon              11906  7917\n",
       "Mall of Istanbul    11902  8041\n",
       "Metrocity            8941  6070\n",
       "Metropol AVM         6144  4017\n",
       "Viaport Outlet       2949  1965\n",
       "Zorlu Center         2968  2107"
      ]
     },
     "execution_count": 28,
     "metadata": {},
     "output_type": "execute_result"
    }
   ],
   "source": [
    "gender_gap_mall = full_df.groupby(['shopping_mall', 'gender'], as_index=False)['customer_id'].count() \\\n",
    "                         .pivot(index='shopping_mall', columns='gender', values='customer_id')\n",
    "gender_gap_mall"
   ]
  },
  {
   "cell_type": "code",
   "execution_count": 29,
   "id": "baf758c7-ece8-40f2-9307-0afd4dbb2c8f",
   "metadata": {
    "tags": []
   },
   "outputs": [
    {
     "data": {
      "image/png": "[encoded data removed]",
      "text/plain": [
       "<Figure size 640x480 with 1 Axes>"
      ]
     },
     "metadata": {},
     "output_type": "display_data"
    }
   ],
   "source": [
    "gender_gap_mall.plot(kind='bar', stacked=True)\n",
    "plt.xlabel('Shopping Malls')\n",
    "plt.ylabel('Counts')\n",
    "plt.title('Gender in the context of different malls\\n');"
   ]
  },
  {
   "cell_type": "markdown",
   "id": "c9cd10d0-d729-436f-a99a-2ebe0f895bb7",
   "metadata": {},
   "source": [
    "### _Women_ prevail over _men_ in our data, but it's hard to say that there is a significant difference in the context of shopping malls"
   ]
  },
  {
   "cell_type": "code",
   "execution_count": 30,
   "id": "991ac9ac-41e6-49ad-bfc9-937633cc052d",
   "metadata": {
    "tags": []
   },
   "outputs": [
    {
     "data": {
      "text/html": [
       "<div>\n",
       "<style scoped>\n",
       "    .dataframe tbody tr th:only-of-type {\n",
       "        vertical-align: middle;\n",
       "    }\n",
       "\n",
       "    .dataframe tbody tr th {\n",
       "        vertical-align: top;\n",
       "    }\n",
       "\n",
       "    .dataframe thead th {\n",
       "        text-align: right;\n",
       "    }\n",
       "</style>\n",
       "<table border=\"1\" class=\"dataframe\">\n",
       "  <thead>\n",
       "    <tr style=\"text-align: right;\">\n",
       "      <th></th>\n",
       "      <th>category</th>\n",
       "      <th>quantity</th>\n",
       "      <th>price</th>\n",
       "      <th>shopping_mall</th>\n",
       "      <th>gender</th>\n",
       "      <th>age</th>\n",
       "      <th>payment_method</th>\n",
       "      <th>age_group</th>\n",
       "      <th>revenue</th>\n",
       "    </tr>\n",
       "  </thead>\n",
       "  <tbody>\n",
       "    <tr>\n",
       "      <th>0</th>\n",
       "      <td>1</td>\n",
       "      <td>5</td>\n",
       "      <td>1500.40</td>\n",
       "      <td>4</td>\n",
       "      <td>0</td>\n",
       "      <td>28.0</td>\n",
       "      <td>1</td>\n",
       "      <td>1</td>\n",
       "      <td>7502.00</td>\n",
       "    </tr>\n",
       "    <tr>\n",
       "      <th>1</th>\n",
       "      <td>4</td>\n",
       "      <td>3</td>\n",
       "      <td>1800.51</td>\n",
       "      <td>2</td>\n",
       "      <td>1</td>\n",
       "      <td>21.0</td>\n",
       "      <td>2</td>\n",
       "      <td>1</td>\n",
       "      <td>5401.53</td>\n",
       "    </tr>\n",
       "    <tr>\n",
       "      <th>2</th>\n",
       "      <td>1</td>\n",
       "      <td>1</td>\n",
       "      <td>300.08</td>\n",
       "      <td>6</td>\n",
       "      <td>1</td>\n",
       "      <td>20.0</td>\n",
       "      <td>0</td>\n",
       "      <td>0</td>\n",
       "      <td>300.08</td>\n",
       "    </tr>\n",
       "    <tr>\n",
       "      <th>3</th>\n",
       "      <td>4</td>\n",
       "      <td>5</td>\n",
       "      <td>3000.85</td>\n",
       "      <td>7</td>\n",
       "      <td>0</td>\n",
       "      <td>66.0</td>\n",
       "      <td>1</td>\n",
       "      <td>5</td>\n",
       "      <td>15004.25</td>\n",
       "    </tr>\n",
       "    <tr>\n",
       "      <th>4</th>\n",
       "      <td>0</td>\n",
       "      <td>4</td>\n",
       "      <td>60.60</td>\n",
       "      <td>4</td>\n",
       "      <td>0</td>\n",
       "      <td>53.0</td>\n",
       "      <td>0</td>\n",
       "      <td>4</td>\n",
       "      <td>242.40</td>\n",
       "    </tr>\n",
       "  </tbody>\n",
       "</table>\n",
       "</div>"
      ],
      "text/plain": [
       "   category  quantity    price  shopping_mall  gender   age  payment_method  \\\n",
       "0         1         5  1500.40              4       0  28.0               1   \n",
       "1         4         3  1800.51              2       1  21.0               2   \n",
       "2         1         1   300.08              6       1  20.0               0   \n",
       "3         4         5  3000.85              7       0  66.0               1   \n",
       "4         0         4    60.60              4       0  53.0               0   \n",
       "\n",
       "   age_group   revenue  \n",
       "0          1   7502.00  \n",
       "1          1   5401.53  \n",
       "2          0    300.08  \n",
       "3          5  15004.25  \n",
       "4          4    242.40  "
      ]
     },
     "execution_count": 30,
     "metadata": {},
     "output_type": "execute_result"
    }
   ],
   "source": [
    "df_dropped = full_df.drop(columns=['invoice_no', 'customer_id', 'invoice_date'])\n",
    "df_dropped[['category','shopping_mall','gender','payment_method','age_group']] = \\\n",
    "    df_dropped[['category','shopping_mall','gender','payment_method','age_group']].apply(LabelEncoder().fit_transform)\n",
    "corr_df = df_dropped.corr(numeric_only=True)\n",
    "df_dropped.head()"
   ]
  },
  {
   "cell_type": "code",
   "execution_count": 36,
   "id": "7c003f00-4e7d-47a6-8e1c-3b896b9d526e",
   "metadata": {
    "tags": []
   },
   "outputs": [
    {
     "data": {
      "text/plain": [
       "Text(0.5, 1.0, 'Correlation Matrix')"
      ]
     },
     "execution_count": 36,
     "metadata": {},
     "output_type": "execute_result"
    },
    {
     "data": {
      "image/png": "[encoded data removed]",
      "text/plain": [
       "<Figure size 640x480 with 2 Axes>"
      ]
     },
     "metadata": {},
     "output_type": "display_data"
    }
   ],
   "source": [
    "sns.heatmap(corr_df, cmap=sns.cubehelix_palette(as_cmap=True))\n",
    "plt.title('Correlation Matrix', )"
   ]
  },
  {
   "cell_type": "markdown",
   "id": "0f3a9dc9-a271-438f-a5ff-cc8e1d0b6a3b",
   "metadata": {},
   "source": [
    "*Features aren't really correlated, but maybe we can state that revenue a little bit depends on the chosen category which might seem quite obvious*"
   ]
  },
  {
   "cell_type": "markdown",
   "id": "7210f53e-e5e1-4bd7-b12b-04bf771b3899",
   "metadata": {},
   "source": [
    "### Distribution in percentage out of all clients at 95 quartile or more"
   ]
  },
  {
   "cell_type": "code",
   "execution_count": 213,
   "id": "7795333c-b0d7-43f0-b152-f020602bbb4a",
   "metadata": {
    "tags": []
   },
   "outputs": [
    {
     "data": {
      "text/html": [
       "<div>\n",
       "<style scoped>\n",
       "    .dataframe tbody tr th:only-of-type {\n",
       "        vertical-align: middle;\n",
       "    }\n",
       "\n",
       "    .dataframe tbody tr th {\n",
       "        vertical-align: top;\n",
       "    }\n",
       "\n",
       "    .dataframe thead th {\n",
       "        text-align: right;\n",
       "    }\n",
       "</style>\n",
       "<table border=\"1\" class=\"dataframe\">\n",
       "  <thead>\n",
       "    <tr style=\"text-align: right;\">\n",
       "      <th></th>\n",
       "      <th>shopping_mall</th>\n",
       "      <th>proportion</th>\n",
       "    </tr>\n",
       "  </thead>\n",
       "  <tbody>\n",
       "    <tr>\n",
       "      <th>0</th>\n",
       "      <td>Kanyon</td>\n",
       "      <td>20.506874</td>\n",
       "    </tr>\n",
       "    <tr>\n",
       "      <th>1</th>\n",
       "      <td>Mall of Istanbul</td>\n",
       "      <td>20.125890</td>\n",
       "    </tr>\n",
       "    <tr>\n",
       "      <th>2</th>\n",
       "      <td>Metrocity</td>\n",
       "      <td>14.378002</td>\n",
       "    </tr>\n",
       "    <tr>\n",
       "      <th>3</th>\n",
       "      <td>Metropol AVM</td>\n",
       "      <td>10.137486</td>\n",
       "    </tr>\n",
       "    <tr>\n",
       "      <th>4</th>\n",
       "      <td>Istinye Park</td>\n",
       "      <td>9.905582</td>\n",
       "    </tr>\n",
       "    <tr>\n",
       "      <th>5</th>\n",
       "      <td>Zorlu Center</td>\n",
       "      <td>5.300646</td>\n",
       "    </tr>\n",
       "    <tr>\n",
       "      <th>6</th>\n",
       "      <td>Viaport Outlet</td>\n",
       "      <td>5.019049</td>\n",
       "    </tr>\n",
       "    <tr>\n",
       "      <th>7</th>\n",
       "      <td>Cevahir AVM</td>\n",
       "      <td>4.936227</td>\n",
       "    </tr>\n",
       "    <tr>\n",
       "      <th>8</th>\n",
       "      <td>Forum Istanbul</td>\n",
       "      <td>4.919662</td>\n",
       "    </tr>\n",
       "    <tr>\n",
       "      <th>9</th>\n",
       "      <td>Emaar Square Mall</td>\n",
       "      <td>4.770581</td>\n",
       "    </tr>\n",
       "  </tbody>\n",
       "</table>\n",
       "</div>"
      ],
      "text/plain": [
       "       shopping_mall  proportion\n",
       "0             Kanyon   20.506874\n",
       "1   Mall of Istanbul   20.125890\n",
       "2          Metrocity   14.378002\n",
       "3       Metropol AVM   10.137486\n",
       "4       Istinye Park    9.905582\n",
       "5       Zorlu Center    5.300646\n",
       "6     Viaport Outlet    5.019049\n",
       "7        Cevahir AVM    4.936227\n",
       "8     Forum Istanbul    4.919662\n",
       "9  Emaar Square Mall    4.770581"
      ]
     },
     "execution_count": 213,
     "metadata": {},
     "output_type": "execute_result"
    }
   ],
   "source": [
    "full_df[full_df.revenue >= full_df['revenue'].quantile(0.95)]\\\n",
    "                           ['shopping_mall'].value_counts(normalize=True)\\\n",
    "                           .mul(100).sort_values(ascending=False).reset_index()"
   ]
  },
  {
   "cell_type": "markdown",
   "id": "804915b8-6aae-400c-a2de-6899d15dc66b",
   "metadata": {},
   "source": [
    "### Distribution in percentage out of all clients in the dataset"
   ]
  },
  {
   "cell_type": "code",
   "execution_count": 32,
   "id": "74dd9616-eeb3-498c-b459-f46ffc7f2a1f",
   "metadata": {
    "tags": []
   },
   "outputs": [
    {
     "data": {
      "text/html": [
       "<div>\n",
       "<style scoped>\n",
       "    .dataframe tbody tr th:only-of-type {\n",
       "        vertical-align: middle;\n",
       "    }\n",
       "\n",
       "    .dataframe tbody tr th {\n",
       "        vertical-align: top;\n",
       "    }\n",
       "\n",
       "    .dataframe thead th {\n",
       "        text-align: right;\n",
       "    }\n",
       "</style>\n",
       "<table border=\"1\" class=\"dataframe\">\n",
       "  <thead>\n",
       "    <tr style=\"text-align: right;\">\n",
       "      <th></th>\n",
       "      <th>shopping_mall</th>\n",
       "      <th>proportion</th>\n",
       "    </tr>\n",
       "  </thead>\n",
       "  <tbody>\n",
       "    <tr>\n",
       "      <th>0</th>\n",
       "      <td>Mall of Istanbul</td>\n",
       "      <td>20.051882</td>\n",
       "    </tr>\n",
       "    <tr>\n",
       "      <th>1</th>\n",
       "      <td>Kanyon</td>\n",
       "      <td>19.931227</td>\n",
       "    </tr>\n",
       "    <tr>\n",
       "      <th>2</th>\n",
       "      <td>Metrocity</td>\n",
       "      <td>15.092955</td>\n",
       "    </tr>\n",
       "    <tr>\n",
       "      <th>3</th>\n",
       "      <td>Metropol AVM</td>\n",
       "      <td>10.216475</td>\n",
       "    </tr>\n",
       "    <tr>\n",
       "      <th>4</th>\n",
       "      <td>Istinye Park</td>\n",
       "      <td>9.834401</td>\n",
       "    </tr>\n",
       "    <tr>\n",
       "      <th>5</th>\n",
       "      <td>Zorlu Center</td>\n",
       "      <td>5.102708</td>\n",
       "    </tr>\n",
       "    <tr>\n",
       "      <th>6</th>\n",
       "      <td>Cevahir AVM</td>\n",
       "      <td>5.018249</td>\n",
       "    </tr>\n",
       "    <tr>\n",
       "      <th>7</th>\n",
       "      <td>Forum Istanbul</td>\n",
       "      <td>4.974009</td>\n",
       "    </tr>\n",
       "    <tr>\n",
       "      <th>8</th>\n",
       "      <td>Viaport Outlet</td>\n",
       "      <td>4.940829</td>\n",
       "    </tr>\n",
       "    <tr>\n",
       "      <th>9</th>\n",
       "      <td>Emaar Square Mall</td>\n",
       "      <td>4.837266</td>\n",
       "    </tr>\n",
       "  </tbody>\n",
       "</table>\n",
       "</div>"
      ],
      "text/plain": [
       "       shopping_mall  proportion\n",
       "0   Mall of Istanbul   20.051882\n",
       "1             Kanyon   19.931227\n",
       "2          Metrocity   15.092955\n",
       "3       Metropol AVM   10.216475\n",
       "4       Istinye Park    9.834401\n",
       "5       Zorlu Center    5.102708\n",
       "6        Cevahir AVM    5.018249\n",
       "7     Forum Istanbul    4.974009\n",
       "8     Viaport Outlet    4.940829\n",
       "9  Emaar Square Mall    4.837266"
      ]
     },
     "execution_count": 32,
     "metadata": {},
     "output_type": "execute_result"
    }
   ],
   "source": [
    "full_df['shopping_mall'].value_counts(normalize=True).mul(100).sort_values(ascending=False).reset_index()"
   ]
  },
  {
   "cell_type": "code",
   "execution_count": 66,
   "id": "f5da5e71-9ec6-4cfc-ba19-760abdef4d5e",
   "metadata": {},
   "outputs": [
    {
     "data": {
      "text/html": [
       "<div>\n",
       "<style scoped>\n",
       "    .dataframe tbody tr th:only-of-type {\n",
       "        vertical-align: middle;\n",
       "    }\n",
       "\n",
       "    .dataframe tbody tr th {\n",
       "        vertical-align: top;\n",
       "    }\n",
       "\n",
       "    .dataframe thead th {\n",
       "        text-align: right;\n",
       "    }\n",
       "</style>\n",
       "<table border=\"1\" class=\"dataframe\">\n",
       "  <thead>\n",
       "    <tr style=\"text-align: right;\">\n",
       "      <th>category</th>\n",
       "      <th>Books</th>\n",
       "      <th>Clothing</th>\n",
       "      <th>Cosmetics</th>\n",
       "      <th>Food &amp; Beverage</th>\n",
       "      <th>Shoes</th>\n",
       "      <th>Souvenir</th>\n",
       "      <th>Technology</th>\n",
       "      <th>Toys</th>\n",
       "    </tr>\n",
       "    <tr>\n",
       "      <th>age_group</th>\n",
       "      <th></th>\n",
       "      <th></th>\n",
       "      <th></th>\n",
       "      <th></th>\n",
       "      <th></th>\n",
       "      <th></th>\n",
       "      <th></th>\n",
       "      <th></th>\n",
       "    </tr>\n",
       "  </thead>\n",
       "  <tbody>\n",
       "    <tr>\n",
       "      <th>10-20</th>\n",
       "      <td>289</td>\n",
       "      <td>1971</td>\n",
       "      <td>824</td>\n",
       "      <td>863</td>\n",
       "      <td>574</td>\n",
       "      <td>276</td>\n",
       "      <td>252</td>\n",
       "      <td>568</td>\n",
       "    </tr>\n",
       "    <tr>\n",
       "      <th>20-30</th>\n",
       "      <td>963</td>\n",
       "      <td>6745</td>\n",
       "      <td>2890</td>\n",
       "      <td>2823</td>\n",
       "      <td>1948</td>\n",
       "      <td>972</td>\n",
       "      <td>991</td>\n",
       "      <td>2046</td>\n",
       "    </tr>\n",
       "    <tr>\n",
       "      <th>30-40</th>\n",
       "      <td>946</td>\n",
       "      <td>6620</td>\n",
       "      <td>2949</td>\n",
       "      <td>2925</td>\n",
       "      <td>1903</td>\n",
       "      <td>991</td>\n",
       "      <td>1006</td>\n",
       "      <td>1905</td>\n",
       "    </tr>\n",
       "    <tr>\n",
       "      <th>40-50</th>\n",
       "      <td>949</td>\n",
       "      <td>6656</td>\n",
       "      <td>2878</td>\n",
       "      <td>2810</td>\n",
       "      <td>1942</td>\n",
       "      <td>928</td>\n",
       "      <td>965</td>\n",
       "      <td>1916</td>\n",
       "    </tr>\n",
       "    <tr>\n",
       "      <th>50-60</th>\n",
       "      <td>965</td>\n",
       "      <td>6540</td>\n",
       "      <td>2932</td>\n",
       "      <td>2793</td>\n",
       "      <td>1900</td>\n",
       "      <td>973</td>\n",
       "      <td>931</td>\n",
       "      <td>1873</td>\n",
       "    </tr>\n",
       "    <tr>\n",
       "      <th>60-70</th>\n",
       "      <td>864</td>\n",
       "      <td>5913</td>\n",
       "      <td>2611</td>\n",
       "      <td>2547</td>\n",
       "      <td>1748</td>\n",
       "      <td>851</td>\n",
       "      <td>850</td>\n",
       "      <td>1763</td>\n",
       "    </tr>\n",
       "  </tbody>\n",
       "</table>\n",
       "</div>"
      ],
      "text/plain": [
       "category   Books  Clothing  Cosmetics  Food & Beverage  Shoes  Souvenir  \\\n",
       "age_group                                                                 \n",
       "10-20        289      1971        824              863    574       276   \n",
       "20-30        963      6745       2890             2823   1948       972   \n",
       "30-40        946      6620       2949             2925   1903       991   \n",
       "40-50        949      6656       2878             2810   1942       928   \n",
       "50-60        965      6540       2932             2793   1900       973   \n",
       "60-70        864      5913       2611             2547   1748       851   \n",
       "\n",
       "category   Technology  Toys  \n",
       "age_group                    \n",
       "10-20             252   568  \n",
       "20-30             991  2046  \n",
       "30-40            1006  1905  \n",
       "40-50             965  1916  \n",
       "50-60             931  1873  \n",
       "60-70             850  1763  "
      ]
     },
     "execution_count": 66,
     "metadata": {},
     "output_type": "execute_result"
    }
   ],
   "source": [
    "category_by_age = full_df.groupby('age_group', as_index=False)['category'].value_counts()\\\n",
    "       .pivot(columns='category', index='age_group', values='count')\n",
    "category_by_age"
   ]
  },
  {
   "cell_type": "code",
   "execution_count": 103,
   "id": "6e16ba71-e405-4b14-8c17-f7deb50ed307",
   "metadata": {
    "tags": []
   },
   "outputs": [
    {
     "data": {
      "text/plain": [
       "Text(0.5, 1.0, 'Category preference among different age groups\\n')"
      ]
     },
     "execution_count": 103,
     "metadata": {},
     "output_type": "execute_result"
    },
    {
     "data": {
      "image/png": "[encoded data removed]",
      "text/plain": [
       "<Figure size 1200x500 with 1 Axes>"
      ]
     },
     "metadata": {},
     "output_type": "display_data"
    }
   ],
   "source": [
    "sns.set(style='darkgrid')\n",
    "category_by_age.plot(kind='bar', width=0.8,linewidth=1, figsize=(12, 5));\n",
    "plt.xlabel('Age Group')\n",
    "plt.ylabel('Number of purchases')\n",
    "plt.title('Category preference among different age groups\\n')"
   ]
  }
 ],
 "metadata": {
  "kernelspec": {
   "display_name": "Python 3 (ipykernel)",
   "language": "python",
   "name": "python3"
  },
  "language_info": {
   "codemirror_mode": {
    "name": "ipython",
    "version": 3
   },
   "file_extension": ".py",
   "mimetype": "text/x-python",
   "name": "python",
   "nbconvert_exporter": "python",
   "pygments_lexer": "ipython3",
   "version": "3.11.5"
  }
 },
 "nbformat": 4,
 "nbformat_minor": 5
}
